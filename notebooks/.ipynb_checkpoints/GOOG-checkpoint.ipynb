{
 "cells": [
  {
   "cell_type": "code",
   "execution_count": 23,
   "id": "a5b2723f-e66c-40fc-8c3b-9b4c31e43745",
   "metadata": {},
   "outputs": [],
   "source": [
    "# Import necessary libraries\n",
    "import yfinance as yf\n",
    "import pandas as pd\n",
    "import talib\n",
    "import matplotlib.pyplot as plt\n",
    "import seaborn as sns\n",
    "import pynance as pn\n",
    "import numpy as np\n",
    "#from pynance import metrics"
   ]
  },
  {
   "cell_type": "code",
   "execution_count": 20,
   "id": "c609e42b-3035-4d1e-a6e6-2a94cc37848a",
   "metadata": {},
   "outputs": [],
   "source": [
    "# --- Step 0: Load Data from CSV ---\n",
    "# 🔁 Replace this with your actual file path\n",
    "data_path = '../data/yfinance_data/GOOG_historical_data.csv'  \n",
    "data = pd.read_csv(data_path, index_col='Date', parse_dates=True)\n",
    "\n",
    "# Ensure required columns exist\n",
    "required_cols = ['Open', 'High', 'Low', 'Close', 'Volume']\n",
    "if not all(col in data.columns for col in required_cols):\n",
    "    raise ValueError(f\"CSV file must include columns: {required_cols}\")\n",
    "\n",
    "data.dropna(inplace=True)"
   ]
  },
  {
   "cell_type": "code",
   "execution_count": 3,
   "id": "ac8bbebd-567b-4ab1-8eb3-c2b643f200a5",
   "metadata": {},
   "outputs": [
    {
     "name": "stdout",
     "output_type": "stream",
     "text": [
      "\n",
      "📊 TA-Lib Indicators (Last 5 rows):\n"
     ]
    },
    {
     "data": {
      "text/html": [
       "<style type=\"text/css\">\n",
       "</style>\n",
       "<table id=\"T_fe373\">\n",
       "  <thead>\n",
       "    <tr>\n",
       "      <th class=\"blank level0\" >&nbsp;</th>\n",
       "      <th id=\"T_fe373_level0_col0\" class=\"col_heading level0 col0\" >Close</th>\n",
       "      <th id=\"T_fe373_level0_col1\" class=\"col_heading level0 col1\" >SMA_20</th>\n",
       "      <th id=\"T_fe373_level0_col2\" class=\"col_heading level0 col2\" >RSI</th>\n",
       "      <th id=\"T_fe373_level0_col3\" class=\"col_heading level0 col3\" >MACD</th>\n",
       "      <th id=\"T_fe373_level0_col4\" class=\"col_heading level0 col4\" >MACD_Signal</th>\n",
       "    </tr>\n",
       "    <tr>\n",
       "      <th class=\"index_name level0\" >Date</th>\n",
       "      <th class=\"blank col0\" >&nbsp;</th>\n",
       "      <th class=\"blank col1\" >&nbsp;</th>\n",
       "      <th class=\"blank col2\" >&nbsp;</th>\n",
       "      <th class=\"blank col3\" >&nbsp;</th>\n",
       "      <th class=\"blank col4\" >&nbsp;</th>\n",
       "    </tr>\n",
       "  </thead>\n",
       "  <tbody>\n",
       "    <tr>\n",
       "      <th id=\"T_fe373_level0_row0\" class=\"row_heading level0 row0\" >2024-07-24 00:00:00</th>\n",
       "      <td id=\"T_fe373_row0_col0\" class=\"data row0 col0\" >174.37</td>\n",
       "      <td id=\"T_fe373_row0_col1\" class=\"data row0 col1\" >185.50</td>\n",
       "      <td id=\"T_fe373_row0_col2\" class=\"data row0 col2\" >37.43</td>\n",
       "      <td id=\"T_fe373_row0_col3\" class=\"data row0 col3\" >-0.03</td>\n",
       "      <td id=\"T_fe373_row0_col4\" class=\"data row0 col4\" >1.57</td>\n",
       "    </tr>\n",
       "    <tr>\n",
       "      <th id=\"T_fe373_level0_row1\" class=\"row_heading level0 row1\" >2024-07-25 00:00:00</th>\n",
       "      <td id=\"T_fe373_row1_col0\" class=\"data row1 col0\" >169.16</td>\n",
       "      <td id=\"T_fe373_row1_col1\" class=\"data row1 col1\" >184.69</td>\n",
       "      <td id=\"T_fe373_row1_col2\" class=\"data row1 col2\" >32.28</td>\n",
       "      <td id=\"T_fe373_row1_col3\" class=\"data row1 col3\" >-1.11</td>\n",
       "      <td id=\"T_fe373_row1_col4\" class=\"data row1 col4\" >1.04</td>\n",
       "    </tr>\n",
       "    <tr>\n",
       "      <th id=\"T_fe373_level0_row2\" class=\"row_heading level0 row2\" >2024-07-26 00:00:00</th>\n",
       "      <td id=\"T_fe373_row2_col0\" class=\"data row2 col0\" >168.68</td>\n",
       "      <td id=\"T_fe373_row2_col1\" class=\"data row2 col1\" >183.78</td>\n",
       "      <td id=\"T_fe373_row2_col2\" class=\"data row2 col2\" >31.84</td>\n",
       "      <td id=\"T_fe373_row2_col3\" class=\"data row2 col3\" >-1.97</td>\n",
       "      <td id=\"T_fe373_row2_col4\" class=\"data row2 col4\" >0.43</td>\n",
       "    </tr>\n",
       "    <tr>\n",
       "      <th id=\"T_fe373_level0_row3\" class=\"row_heading level0 row3\" >2024-07-29 00:00:00</th>\n",
       "      <td id=\"T_fe373_row3_col0\" class=\"data row3 col0\" >171.13</td>\n",
       "      <td id=\"T_fe373_row3_col1\" class=\"data row3 col1\" >183.17</td>\n",
       "      <td id=\"T_fe373_row3_col2\" class=\"data row3 col2\" >36.55</td>\n",
       "      <td id=\"T_fe373_row3_col3\" class=\"data row3 col3\" >-2.43</td>\n",
       "      <td id=\"T_fe373_row3_col4\" class=\"data row3 col4\" >-0.14</td>\n",
       "    </tr>\n",
       "    <tr>\n",
       "      <th id=\"T_fe373_level0_row4\" class=\"row_heading level0 row4\" >2024-07-30 00:00:00</th>\n",
       "      <td id=\"T_fe373_row4_col0\" class=\"data row4 col0\" >171.86</td>\n",
       "      <td id=\"T_fe373_row4_col1\" class=\"data row4 col1\" >182.53</td>\n",
       "      <td id=\"T_fe373_row4_col2\" class=\"data row4 col2\" >37.92</td>\n",
       "      <td id=\"T_fe373_row4_col3\" class=\"data row4 col3\" >-2.71</td>\n",
       "      <td id=\"T_fe373_row4_col4\" class=\"data row4 col4\" >-0.65</td>\n",
       "    </tr>\n",
       "  </tbody>\n",
       "</table>\n"
      ],
      "text/plain": [
       "<pandas.io.formats.style.Styler at 0x26e3b6ede80>"
      ]
     },
     "metadata": {},
     "output_type": "display_data"
    }
   ],
   "source": [
    "# --- Step 1: Compute TA-Lib Indicators ---\n",
    "\n",
    "# Simple Moving Average\n",
    "data['SMA_20'] = talib.SMA(data['Close'], timeperiod=20)\n",
    "\n",
    "# Relative Strength Index\n",
    "data['RSI'] = talib.RSI(data['Close'], timeperiod=14)\n",
    "\n",
    "# MACD and Signal Line\n",
    "macd, macd_signal, macd_hist = talib.MACD(\n",
    "    data['Close'],\n",
    "    fastperiod=12,\n",
    "    slowperiod=26,\n",
    "    signalperiod=9\n",
    ")\n",
    "data['MACD'] = macd\n",
    "data['MACD_Signal'] = macd_signal\n",
    "\n",
    "# --- Step 2: Print Last Rows of Indicators ---\n",
    "print(\"\\n📊 TA-Lib Indicators (Last 5 rows):\")\n",
    "display(data[['Close', 'SMA_20', 'RSI', 'MACD', 'MACD_Signal']].tail().style.format(\"{:.2f}\"))"
   ]
  },
  {
   "cell_type": "code",
   "execution_count": 24,
   "id": "84819051-dddc-490f-af46-1b7509bd1866",
   "metadata": {},
   "outputs": [
    {
     "name": "stdout",
     "output_type": "stream",
     "text": [
      "\n",
      "📈 Financial Metrics:\n"
     ]
    },
    {
     "data": {
      "text/html": [
       "<style type=\"text/css\">\n",
       "</style>\n",
       "<table id=\"T_94379\">\n",
       "  <thead>\n",
       "    <tr>\n",
       "      <th class=\"blank level0\" >&nbsp;</th>\n",
       "      <th id=\"T_94379_level0_col0\" class=\"col_heading level0 col0\" >Metric</th>\n",
       "      <th id=\"T_94379_level0_col1\" class=\"col_heading level0 col1\" >Value</th>\n",
       "    </tr>\n",
       "  </thead>\n",
       "  <tbody>\n",
       "    <tr>\n",
       "      <th id=\"T_94379_level0_row0\" class=\"row_heading level0 row0\" >0</th>\n",
       "      <td id=\"T_94379_row0_col0\" class=\"data row0 col0\" >Annualized Volatility</td>\n",
       "      <td id=\"T_94379_row0_col1\" class=\"data row0 col1\" >0.3067</td>\n",
       "    </tr>\n",
       "    <tr>\n",
       "      <th id=\"T_94379_level0_row1\" class=\"row_heading level0 row1\" >1</th>\n",
       "      <td id=\"T_94379_row1_col0\" class=\"data row1 col0\" >Annualized Sharpe Ratio</td>\n",
       "      <td id=\"T_94379_row1_col1\" class=\"data row1 col1\" >0.8452</td>\n",
       "    </tr>\n",
       "  </tbody>\n",
       "</table>\n"
      ],
      "text/plain": [
       "<pandas.io.formats.style.Styler at 0x26e3b53f390>"
      ]
     },
     "metadata": {},
     "output_type": "display_data"
    }
   ],
   "source": [
    "# --- Step 3: Financial Metrics (Table Format) ---\n",
    "#import numpy as np\n",
    "returns = data['Close'].pct_change().dropna()\n",
    "\n",
    "# Calculate metrics\n",
    "volatility = returns.std() * np.sqrt(252)  # Annualized Volatility\n",
    "sharpe_ratio = (returns.mean() / returns.std()) * np.sqrt(252)  # Annualized Sharpe Ratio\n",
    "\n",
    "# Create DataFrame to display metrics\n",
    "metrics_table = pd.DataFrame({\n",
    "    'Metric': ['Annualized Volatility', 'Annualized Sharpe Ratio'],\n",
    "    'Value': [volatility, sharpe_ratio]\n",
    "})\n",
    "\n",
    "# Display nicely\n",
    "print(\"\\n📈 Financial Metrics:\")\n",
    "display(metrics_table.style.format({'Value': '{:.4f}'}))"
   ]
  },
  {
   "cell_type": "code",
   "execution_count": 35,
   "id": "bfd00f1b-a7e8-4988-bc75-ab359e444bb4",
   "metadata": {},
   "outputs": [
    {
     "ename": "KeyError",
     "evalue": "'SMA_20'",
     "output_type": "error",
     "traceback": [
      "\u001b[31m---------------------------------------------------------------------------\u001b[39m",
      "\u001b[31mKeyError\u001b[39m                                  Traceback (most recent call last)",
      "\u001b[36mFile \u001b[39m\u001b[32m~\\miniconda4\\Lib\\site-packages\\pandas\\core\\indexes\\base.py:3805\u001b[39m, in \u001b[36mIndex.get_loc\u001b[39m\u001b[34m(self, key)\u001b[39m\n\u001b[32m   3804\u001b[39m \u001b[38;5;28;01mtry\u001b[39;00m:\n\u001b[32m-> \u001b[39m\u001b[32m3805\u001b[39m     \u001b[38;5;28;01mreturn\u001b[39;00m \u001b[38;5;28;43mself\u001b[39;49m\u001b[43m.\u001b[49m\u001b[43m_engine\u001b[49m\u001b[43m.\u001b[49m\u001b[43mget_loc\u001b[49m\u001b[43m(\u001b[49m\u001b[43mcasted_key\u001b[49m\u001b[43m)\u001b[49m\n\u001b[32m   3806\u001b[39m \u001b[38;5;28;01mexcept\u001b[39;00m \u001b[38;5;167;01mKeyError\u001b[39;00m \u001b[38;5;28;01mas\u001b[39;00m err:\n",
      "\u001b[36mFile \u001b[39m\u001b[32mindex.pyx:167\u001b[39m, in \u001b[36mpandas._libs.index.IndexEngine.get_loc\u001b[39m\u001b[34m()\u001b[39m\n",
      "\u001b[36mFile \u001b[39m\u001b[32mindex.pyx:196\u001b[39m, in \u001b[36mpandas._libs.index.IndexEngine.get_loc\u001b[39m\u001b[34m()\u001b[39m\n",
      "\u001b[36mFile \u001b[39m\u001b[32mpandas\\\\_libs\\\\hashtable_class_helper.pxi:7081\u001b[39m, in \u001b[36mpandas._libs.hashtable.PyObjectHashTable.get_item\u001b[39m\u001b[34m()\u001b[39m\n",
      "\u001b[36mFile \u001b[39m\u001b[32mpandas\\\\_libs\\\\hashtable_class_helper.pxi:7089\u001b[39m, in \u001b[36mpandas._libs.hashtable.PyObjectHashTable.get_item\u001b[39m\u001b[34m()\u001b[39m\n",
      "\u001b[31mKeyError\u001b[39m: 'SMA_20'",
      "\nThe above exception was the direct cause of the following exception:\n",
      "\u001b[31mKeyError\u001b[39m                                  Traceback (most recent call last)",
      "\u001b[36mCell\u001b[39m\u001b[36m \u001b[39m\u001b[32mIn[35]\u001b[39m\u001b[32m, line 3\u001b[39m\n\u001b[32m      1\u001b[39m plt.figure(figsize=(\u001b[32m14\u001b[39m, \u001b[32m6\u001b[39m))\n\u001b[32m      2\u001b[39m plt.plot(data[\u001b[33m'\u001b[39m\u001b[33mClose\u001b[39m\u001b[33m'\u001b[39m], label=\u001b[33m'\u001b[39m\u001b[33mClose Price\u001b[39m\u001b[33m'\u001b[39m)\n\u001b[32m----> \u001b[39m\u001b[32m3\u001b[39m plt.plot(\u001b[43mdata\u001b[49m\u001b[43m[\u001b[49m\u001b[33;43m'\u001b[39;49m\u001b[33;43mSMA_20\u001b[39;49m\u001b[33;43m'\u001b[39;49m\u001b[43m]\u001b[49m, label=\u001b[33m'\u001b[39m\u001b[33mSMA 20\u001b[39m\u001b[33m'\u001b[39m, linestyle=\u001b[33m'\u001b[39m\u001b[33m--\u001b[39m\u001b[33m'\u001b[39m, color=\u001b[33m'\u001b[39m\u001b[33morange\u001b[39m\u001b[33m'\u001b[39m)\n\u001b[32m      4\u001b[39m plt.title(\u001b[33m'\u001b[39m\u001b[33mClose Price and 20-Day SMA\u001b[39m\u001b[33m'\u001b[39m)\n\u001b[32m      5\u001b[39m plt.xlabel(\u001b[33m'\u001b[39m\u001b[33mDate\u001b[39m\u001b[33m'\u001b[39m)\n",
      "\u001b[36mFile \u001b[39m\u001b[32m~\\miniconda4\\Lib\\site-packages\\pandas\\core\\frame.py:4102\u001b[39m, in \u001b[36mDataFrame.__getitem__\u001b[39m\u001b[34m(self, key)\u001b[39m\n\u001b[32m   4100\u001b[39m \u001b[38;5;28;01mif\u001b[39;00m \u001b[38;5;28mself\u001b[39m.columns.nlevels > \u001b[32m1\u001b[39m:\n\u001b[32m   4101\u001b[39m     \u001b[38;5;28;01mreturn\u001b[39;00m \u001b[38;5;28mself\u001b[39m._getitem_multilevel(key)\n\u001b[32m-> \u001b[39m\u001b[32m4102\u001b[39m indexer = \u001b[38;5;28;43mself\u001b[39;49m\u001b[43m.\u001b[49m\u001b[43mcolumns\u001b[49m\u001b[43m.\u001b[49m\u001b[43mget_loc\u001b[49m\u001b[43m(\u001b[49m\u001b[43mkey\u001b[49m\u001b[43m)\u001b[49m\n\u001b[32m   4103\u001b[39m \u001b[38;5;28;01mif\u001b[39;00m is_integer(indexer):\n\u001b[32m   4104\u001b[39m     indexer = [indexer]\n",
      "\u001b[36mFile \u001b[39m\u001b[32m~\\miniconda4\\Lib\\site-packages\\pandas\\core\\indexes\\base.py:3812\u001b[39m, in \u001b[36mIndex.get_loc\u001b[39m\u001b[34m(self, key)\u001b[39m\n\u001b[32m   3807\u001b[39m     \u001b[38;5;28;01mif\u001b[39;00m \u001b[38;5;28misinstance\u001b[39m(casted_key, \u001b[38;5;28mslice\u001b[39m) \u001b[38;5;129;01mor\u001b[39;00m (\n\u001b[32m   3808\u001b[39m         \u001b[38;5;28misinstance\u001b[39m(casted_key, abc.Iterable)\n\u001b[32m   3809\u001b[39m         \u001b[38;5;129;01mand\u001b[39;00m \u001b[38;5;28many\u001b[39m(\u001b[38;5;28misinstance\u001b[39m(x, \u001b[38;5;28mslice\u001b[39m) \u001b[38;5;28;01mfor\u001b[39;00m x \u001b[38;5;129;01min\u001b[39;00m casted_key)\n\u001b[32m   3810\u001b[39m     ):\n\u001b[32m   3811\u001b[39m         \u001b[38;5;28;01mraise\u001b[39;00m InvalidIndexError(key)\n\u001b[32m-> \u001b[39m\u001b[32m3812\u001b[39m     \u001b[38;5;28;01mraise\u001b[39;00m \u001b[38;5;167;01mKeyError\u001b[39;00m(key) \u001b[38;5;28;01mfrom\u001b[39;00m\u001b[38;5;250m \u001b[39m\u001b[34;01merr\u001b[39;00m\n\u001b[32m   3813\u001b[39m \u001b[38;5;28;01mexcept\u001b[39;00m \u001b[38;5;167;01mTypeError\u001b[39;00m:\n\u001b[32m   3814\u001b[39m     \u001b[38;5;66;03m# If we have a listlike key, _check_indexing_error will raise\u001b[39;00m\n\u001b[32m   3815\u001b[39m     \u001b[38;5;66;03m#  InvalidIndexError. Otherwise we fall through and re-raise\u001b[39;00m\n\u001b[32m   3816\u001b[39m     \u001b[38;5;66;03m#  the TypeError.\u001b[39;00m\n\u001b[32m   3817\u001b[39m     \u001b[38;5;28mself\u001b[39m._check_indexing_error(key)\n",
      "\u001b[31mKeyError\u001b[39m: 'SMA_20'"
     ]
    },
    {
     "data": {
      "image/png": "[encoded data removed]",
      "text/plain": [
       "<Figure size 1400x600 with 1 Axes>"
      ]
     },
     "metadata": {},
     "output_type": "display_data"
    }
   ],
   "source": [
    "plt.figure(figsize=(14, 6))\n",
    "plt.plot(data['Close'], label='Close Price')\n",
    "plt.plot(data['SMA_20'], label='SMA 20', linestyle='--', color='orange')\n",
    "plt.title('Close Price and 20-Day SMA')\n",
    "plt.xlabel('Date')\n",
    "plt.ylabel('Price')\n",
    "plt.legend()\n",
    "plt.tight_layout()\n",
    "plt.show()"
   ]
  },
  {
   "cell_type": "code",
   "execution_count": 33,
   "id": "d6531ad3-7362-4f46-9653-2840d1c2343c",
   "metadata": {},
   "outputs": [
    {
     "ename": "KeyError",
     "evalue": "'RSI'",
     "output_type": "error",
     "traceback": [
      "\u001b[31m---------------------------------------------------------------------------\u001b[39m",
      "\u001b[31mKeyError\u001b[39m                                  Traceback (most recent call last)",
      "\u001b[36mFile \u001b[39m\u001b[32m~\\miniconda4\\Lib\\site-packages\\pandas\\core\\indexes\\base.py:3805\u001b[39m, in \u001b[36mIndex.get_loc\u001b[39m\u001b[34m(self, key)\u001b[39m\n\u001b[32m   3804\u001b[39m \u001b[38;5;28;01mtry\u001b[39;00m:\n\u001b[32m-> \u001b[39m\u001b[32m3805\u001b[39m     \u001b[38;5;28;01mreturn\u001b[39;00m \u001b[38;5;28;43mself\u001b[39;49m\u001b[43m.\u001b[49m\u001b[43m_engine\u001b[49m\u001b[43m.\u001b[49m\u001b[43mget_loc\u001b[49m\u001b[43m(\u001b[49m\u001b[43mcasted_key\u001b[49m\u001b[43m)\u001b[49m\n\u001b[32m   3806\u001b[39m \u001b[38;5;28;01mexcept\u001b[39;00m \u001b[38;5;167;01mKeyError\u001b[39;00m \u001b[38;5;28;01mas\u001b[39;00m err:\n",
      "\u001b[36mFile \u001b[39m\u001b[32mindex.pyx:167\u001b[39m, in \u001b[36mpandas._libs.index.IndexEngine.get_loc\u001b[39m\u001b[34m()\u001b[39m\n",
      "\u001b[36mFile \u001b[39m\u001b[32mindex.pyx:196\u001b[39m, in \u001b[36mpandas._libs.index.IndexEngine.get_loc\u001b[39m\u001b[34m()\u001b[39m\n",
      "\u001b[36mFile \u001b[39m\u001b[32mpandas\\\\_libs\\\\hashtable_class_helper.pxi:7081\u001b[39m, in \u001b[36mpandas._libs.hashtable.PyObjectHashTable.get_item\u001b[39m\u001b[34m()\u001b[39m\n",
      "\u001b[36mFile \u001b[39m\u001b[32mpandas\\\\_libs\\\\hashtable_class_helper.pxi:7089\u001b[39m, in \u001b[36mpandas._libs.hashtable.PyObjectHashTable.get_item\u001b[39m\u001b[34m()\u001b[39m\n",
      "\u001b[31mKeyError\u001b[39m: 'RSI'",
      "\nThe above exception was the direct cause of the following exception:\n",
      "\u001b[31mKeyError\u001b[39m                                  Traceback (most recent call last)",
      "\u001b[36mCell\u001b[39m\u001b[36m \u001b[39m\u001b[32mIn[33]\u001b[39m\u001b[32m, line 3\u001b[39m\n\u001b[32m      1\u001b[39m \u001b[38;5;66;03m# 2. RSI Plot\u001b[39;00m\n\u001b[32m      2\u001b[39m plt.figure(figsize=(\u001b[32m14\u001b[39m, \u001b[32m4\u001b[39m))\n\u001b[32m----> \u001b[39m\u001b[32m3\u001b[39m plt.plot(\u001b[43mdata\u001b[49m\u001b[43m[\u001b[49m\u001b[33;43m'\u001b[39;49m\u001b[33;43mRSI\u001b[39;49m\u001b[33;43m'\u001b[39;49m\u001b[43m]\u001b[49m, label=\u001b[33m'\u001b[39m\u001b[33mRSI\u001b[39m\u001b[33m'\u001b[39m, color=\u001b[33m'\u001b[39m\u001b[33mpurple\u001b[39m\u001b[33m'\u001b[39m)\n\u001b[32m      4\u001b[39m plt.axhline(\u001b[32m70\u001b[39m, color=\u001b[33m'\u001b[39m\u001b[33mred\u001b[39m\u001b[33m'\u001b[39m, linestyle=\u001b[33m'\u001b[39m\u001b[33m--\u001b[39m\u001b[33m'\u001b[39m, alpha=\u001b[32m0.5\u001b[39m)\n\u001b[32m      5\u001b[39m plt.axhline(\u001b[32m30\u001b[39m, color=\u001b[33m'\u001b[39m\u001b[33mgreen\u001b[39m\u001b[33m'\u001b[39m, linestyle=\u001b[33m'\u001b[39m\u001b[33m--\u001b[39m\u001b[33m'\u001b[39m, alpha=\u001b[32m0.5\u001b[39m)\n",
      "\u001b[36mFile \u001b[39m\u001b[32m~\\miniconda4\\Lib\\site-packages\\pandas\\core\\frame.py:4102\u001b[39m, in \u001b[36mDataFrame.__getitem__\u001b[39m\u001b[34m(self, key)\u001b[39m\n\u001b[32m   4100\u001b[39m \u001b[38;5;28;01mif\u001b[39;00m \u001b[38;5;28mself\u001b[39m.columns.nlevels > \u001b[32m1\u001b[39m:\n\u001b[32m   4101\u001b[39m     \u001b[38;5;28;01mreturn\u001b[39;00m \u001b[38;5;28mself\u001b[39m._getitem_multilevel(key)\n\u001b[32m-> \u001b[39m\u001b[32m4102\u001b[39m indexer = \u001b[38;5;28;43mself\u001b[39;49m\u001b[43m.\u001b[49m\u001b[43mcolumns\u001b[49m\u001b[43m.\u001b[49m\u001b[43mget_loc\u001b[49m\u001b[43m(\u001b[49m\u001b[43mkey\u001b[49m\u001b[43m)\u001b[49m\n\u001b[32m   4103\u001b[39m \u001b[38;5;28;01mif\u001b[39;00m is_integer(indexer):\n\u001b[32m   4104\u001b[39m     indexer = [indexer]\n",
      "\u001b[36mFile \u001b[39m\u001b[32m~\\miniconda4\\Lib\\site-packages\\pandas\\core\\indexes\\base.py:3812\u001b[39m, in \u001b[36mIndex.get_loc\u001b[39m\u001b[34m(self, key)\u001b[39m\n\u001b[32m   3807\u001b[39m     \u001b[38;5;28;01mif\u001b[39;00m \u001b[38;5;28misinstance\u001b[39m(casted_key, \u001b[38;5;28mslice\u001b[39m) \u001b[38;5;129;01mor\u001b[39;00m (\n\u001b[32m   3808\u001b[39m         \u001b[38;5;28misinstance\u001b[39m(casted_key, abc.Iterable)\n\u001b[32m   3809\u001b[39m         \u001b[38;5;129;01mand\u001b[39;00m \u001b[38;5;28many\u001b[39m(\u001b[38;5;28misinstance\u001b[39m(x, \u001b[38;5;28mslice\u001b[39m) \u001b[38;5;28;01mfor\u001b[39;00m x \u001b[38;5;129;01min\u001b[39;00m casted_key)\n\u001b[32m   3810\u001b[39m     ):\n\u001b[32m   3811\u001b[39m         \u001b[38;5;28;01mraise\u001b[39;00m InvalidIndexError(key)\n\u001b[32m-> \u001b[39m\u001b[32m3812\u001b[39m     \u001b[38;5;28;01mraise\u001b[39;00m \u001b[38;5;167;01mKeyError\u001b[39;00m(key) \u001b[38;5;28;01mfrom\u001b[39;00m\u001b[38;5;250m \u001b[39m\u001b[34;01merr\u001b[39;00m\n\u001b[32m   3813\u001b[39m \u001b[38;5;28;01mexcept\u001b[39;00m \u001b[38;5;167;01mTypeError\u001b[39;00m:\n\u001b[32m   3814\u001b[39m     \u001b[38;5;66;03m# If we have a listlike key, _check_indexing_error will raise\u001b[39;00m\n\u001b[32m   3815\u001b[39m     \u001b[38;5;66;03m#  InvalidIndexError. Otherwise we fall through and re-raise\u001b[39;00m\n\u001b[32m   3816\u001b[39m     \u001b[38;5;66;03m#  the TypeError.\u001b[39;00m\n\u001b[32m   3817\u001b[39m     \u001b[38;5;28mself\u001b[39m._check_indexing_error(key)\n",
      "\u001b[31mKeyError\u001b[39m: 'RSI'"
     ]
    },
    {
     "data": {
      "text/plain": [
       "<Figure size 1400x400 with 0 Axes>"
      ]
     },
     "metadata": {},
     "output_type": "display_data"
    }
   ],
   "source": [
    "# 2. RSI Plot\n",
    "plt.figure(figsize=(14, 4))\n",
    "plt.plot(data['RSI'], label='RSI', color='purple')\n",
    "plt.axhline(70, color='red', linestyle='--', alpha=0.5)\n",
    "plt.axhline(30, color='green', linestyle='--', alpha=0.5)\n",
    "plt.title('Relative Strength Index (RSI)')\n",
    "plt.legend()\n",
    "plt.show()"
   ]
  },
  {
   "cell_type": "code",
   "execution_count": 34,
   "id": "b3eabd8d-ea4b-48e0-993d-3e44d30c3106",
   "metadata": {},
   "outputs": [
    {
     "name": "stdout",
     "output_type": "stream",
     "text": [
      "Index(['Open', 'High', 'Low', 'Close', 'Adj Close', 'Volume', 'Dividends',\n",
      "       'Stock Splits'],\n",
      "      dtype='object')\n"
     ]
    }
   ],
   "source": [
    "print(data.columns)\n"
   ]
  },
  {
   "cell_type": "code",
   "execution_count": null,
   "id": "d936b03c-7c1a-4628-9c79-75009fd04f24",
   "metadata": {},
   "outputs": [],
   "source": []
  }
 ],
 "metadata": {
  "kernelspec": {
   "display_name": "Python 3 (ipykernel)",
   "language": "python",
   "name": "python3"
  },
  "language_info": {
   "codemirror_mode": {
    "name": "ipython",
    "version": 3
   },
   "file_extension": ".py",
   "mimetype": "text/x-python",
   "name": "python",
   "nbconvert_exporter": "python",
   "pygments_lexer": "ipython3",
   "version": "3.13.2"
  }
 },
 "nbformat": 4,
 "nbformat_minor": 5
}
