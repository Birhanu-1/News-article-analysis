{
 "cells": [
  {
   "cell_type": "code",
   "execution_count": null,
   "id": "bcd458b7-ac86-4cb2-87eb-82550fb16263",
   "metadata": {},
   "outputs": [],
   "source": [
    "import pandas as pd\n",
    "import numpy as np\n",
    "import matplotlib.pyplot as plt\n",
    "import seaborn as sns\n",
    "import re\n",
    "import os\n",
    "import talib\n",
    "import pynance \n",
    "#from pynance import equity\n",
    "import yfinance as yf\n"
   ]
  },
  {
   "cell_type": "code",
   "execution_count": null,
   "id": "4ddd6a04-4420-46fd-bdb2-e43abc865fc4",
   "metadata": {},
   "outputs": [],
   "source": [
    "sns.set(style='darkgrid')"
   ]
  },
  {
   "cell_type": "code",
   "execution_count": null,
   "id": "d7863db1-e640-46bc-ae94-84f4298efe27",
   "metadata": {},
   "outputs": [],
   "source": [
    "class TechnicalAnalyzer:\n",
    "    def __init__(self, price_csv):\n",
    "        self.df = pd.read_csv(price_csv, index_col='Date', parse_dates=True)\n",
    "    \n",
    "    def add_indicators(self):\n",
    "        self.df['SMA_20'] = talib.SMA(self.df['Close'], timeperiod=20)\n",
    "        self.df['RSI'] = talib.RSI(self.df['Close'], timeperiod=14)\n",
    "        self.df['MACD'], self.df['MACD_signal'], _ = talib.MACD(self.df['Close'])\n",
    "    \n",
    "    def add_returns(self):\n",
    "        self.df['daily_return'] = self.df['Close'].pct_change()\n",
    "    \n",
    "    def fetch_pynance_data(self, symbol='TSLA'):\n",
    "        try:\n",
    "            ticker = equity(symbol)\n",
    "            print(f\"\\nPyNance - Recent TSLA Close: {ticker.price()}\")\n",
    "        except Exception as e:\n",
    "            print(f\"PyNance fetch failed: {e}\")\n",
    "    \n",
    "    def plot_price_and_indicators(self):\n",
    "        plt.figure(figsize=(12, 6))\n",
    "        plt.plot(self.df['Close'], label='Close Price')\n",
    "        plt.plot(self.df['SMA_20'], label='SMA 20')\n",
    "        plt.title('Price and SMA')\n",
    "        plt.legend()\n",
    "        plt.tight_layout()\n",
    "        plt.show()\n",
    "    \n",
    "    def plot_rsi(self):\n",
    "        plt.figure(figsize=(10, 4))\n",
    "        plt.plot(self.df['RSI'], color='orange')\n",
    "        plt.axhline(70, color='red', linestyle='--')\n",
    "        plt.axhline(30, color='green', linestyle='--')\n",
    "        plt.title('RSI')\n",
    "        plt.tight_layout()\n",
    "        plt.show()\n",
    "    \n",
    "    def plot_macd(self):\n",
    "        plt.figure(figsize=(10, 4))\n",
    "        plt.plot(self.df['MACD'], label='MACD', color='blue')\n",
    "        plt.plot(self.df['MACD_signal'], label='Signal', color='red')\n",
    "        plt.title('MACD & Signal Line')\n",
    "        plt.legend()\n",
    "        plt.tight_layout()\n",
    "        plt.show()\n",
    "    \n",
    "    def save(self, output_path='../data/price_with_indicators.csv'):\n",
    "        self.df.to_csv(output_path)\n",
    "\n",
    "\n",
    "if __name__ == \"__main__\":\n",
    "    analyzer = TechnicalAnalyzer('../data/yfinance_data/AAPL_historical_data.csv')\n",
    "    analyzer.add_indicators()\n",
    "    analyzer.add_returns()\n",
    "    analyzer.fetch_pynance_data()\n",
    "    \n",
    "    print(\"Saving output with indicators...\")\n",
    "    analyzer.save()\n",
    "\n",
    "    print(\"\\nPlotting indicators...\")\n",
    "    analyzer.plot_price_and_indicators()\n",
    "    analyzer.plot_rsi()\n",
    "    analyzer.plot_macd()"
   ]
  }
 ],
 "metadata": {
  "kernelspec": {
   "display_name": "Python 3 (ipykernel)",
   "language": "python",
   "name": "python3"
  },
  "language_info": {
   "codemirror_mode": {
    "name": "ipython",
    "version": 3
   },
   "file_extension": ".py",
   "mimetype": "text/x-python",
   "name": "python",
   "nbconvert_exporter": "python",
   "pygments_lexer": "ipython3",
   "version": "3.13.2"
  }
 },
 "nbformat": 4,
 "nbformat_minor": 5
}
